{
 "cells": [
  {
   "cell_type": "markdown",
   "metadata": {},
   "source": [
    "## Contours :Getting starated\n",
    "\n",
    "### Goal\n",
    "\n",
    "• Understand what contours are.\n",
    "\n",
    "• Learn to ﬁnd contours, draw contours etc\n",
    "\n",
    "• You will see these functions : cv2.ﬁndContours(), cv2.drawContours()\n",
    "\n",
    "### What are contours?\n",
    "\n",
    "Contours can be explained simply as a curve joining all the continuous points (along the boundary), having same color or intensity. The contours are a useful tool for shape analysis and object detection and recognition.\n",
    "\n",
    "• For better accuracy, use binary images. So before ﬁnding contours, apply threshold or canny edge detection.\n",
    "\n",
    "• ﬁndContours function modiﬁes the source image. So if you want source image even after ﬁnding contours, already store it to some other variables.\n",
    "\n",
    "• In OpenCV, ﬁnding contours is like ﬁnding white object from black background. So remember, object to be found should be white and background should be black"
   ]
  },
  {
   "cell_type": "code",
   "execution_count": 2,
   "metadata": {
    "collapsed": true
   },
   "outputs": [],
   "source": [
    "import cv2\n",
    "import numpy as np\n",
    "import matplotlib.pyplot as plt"
   ]
  },
  {
   "cell_type": "code",
   "execution_count": null,
   "metadata": {
    "collapsed": false
   },
   "outputs": [],
   "source": [
    "img = cv2.imread('images/box1.png') \n",
    "imgray = cv2.cvtColor(img,cv2.COLOR_BGR2GRAY) \n",
    "ret,thresh = cv2.threshold(imgray,127,255,0) \n",
    "image, contours, hierarchy = cv2.findContours(thresh,cv2.RETR_TREE,cv2.CHAIN_APPROX_SIMPLE)\n",
    "\n",
    "plt.figure(figsize=(10,10))\n",
    "\n",
    "plt.imshow(img,cmap='gray')\n",
    "plt.title('Original')\n",
    "plt.axis(\"off\")\n",
    "plt.show()"
   ]
  },
  {
   "cell_type": "code",
   "execution_count": null,
   "metadata": {
    "collapsed": false
   },
   "outputs": [],
   "source": []
  },
  {
   "cell_type": "markdown",
   "metadata": {},
   "source": [
    "### How to draw the contours?\n",
    "\n",
    "To draw the contours, cv2.drawContours function is used. It can also be used to draw any shape provided you have its boundary points. Its ﬁrst argument is source image, second argument is the contours which should be passed as a Python list, third argument is index of contours (useful when drawing individual contour. To draw all contours, pass -1) and remaining arguments are color, thickness etc.\n",
    "\n",
    "To draw all the contours in an image:\n",
    "```python=\n",
    "img = cv2.drawContours(img, contours, -1, (0,255,0), 3)\n",
    "```\n",
    "To draw an individual contour, say 4th contour:\n",
    "```python=\n",
    "img = cv2.drawContours(img, contours, 3, (0,255,0), 3)\n",
    "```\n",
    "But most of the time, below method will be useful:\n",
    "\n",
    "```python=\n",
    "cnt = contours[4] img = cv2.drawContours(img, [cnt], 0, (0,255,0), 3)\n",
    "```\n",
    "**Note**: Last two methods are same, but when you go forward, you will see last one is more useful.\n",
    "\n"
   ]
  },
  {
   "cell_type": "code",
   "execution_count": 3,
   "metadata": {
    "collapsed": false
   },
   "outputs": [
    {
     "data": {
      "image/png": "[encoded data removed]",
      "text/plain": [
       "<matplotlib.figure.Figure at 0x115fa1518>"
      ]
     },
     "metadata": {},
     "output_type": "display_data"
    }
   ],
   "source": [
    "img = cv2.imread('images/box1.png') \n",
    "\n",
    "imgray = cv2.cvtColor(img,cv2.COLOR_BGR2GRAY) \n",
    "ret,thresh = cv2.threshold(imgray,127,255,0) \n",
    "image, contours, hierarchy = cv2.findContours(thresh,cv2.RETR_TREE,cv2.CHAIN_APPROX_SIMPLE)\n",
    "\n",
    "# To draw all the contours in an image:\n",
    "#img_cont = cv2.drawContours(img, contours, -1, (0,255,0), 3)\n",
    "\n",
    "plt.figure(figsize=(10,10))\n",
    "\n",
    "plt.subplot(1,2,1), plt.imshow(img,cmap='gray')\n",
    "plt.title('Original'),plt.axis(\"off\")\n",
    "cv2.drawContours(img, contours, -1, (0,255,0), 3)\n",
    "\n",
    "\n",
    "plt.subplot(1,2,2), plt.imshow(img,cmap='gray')\n",
    "plt.title('Contours'),plt.axis(\"off\")\n",
    "\n",
    "plt.show()\n"
   ]
  },
  {
   "cell_type": "markdown",
   "metadata": {},
   "source": [
    "### Contour Approximation Method\n",
    "\n",
    "This is the third argument in cv2.findContours function. What does it denote actually?\n",
    "\n",
    "Above, we told that contours are the boundaries of a shape with same intensity. It stores the (x,y) coordinates of the boundary of a shape. But does it store all the coordinates ? That is speciﬁed by this contour approximation method.\n",
    "\n",
    "If you pass cv2.CHAIN_APPROX_NONE, all the boundary points are stored. But actually do we need all the points? For eg, you found the contour of a straight line. Do you need all the points on the line to represent that line? No, we need just two end points of that line. This is what cv2.CHAIN_APPROX_SIMPLE does. It removes all redundant points and compresses the contour, thereby saving memory.\n",
    "\n",
    "Below image of a rectangle demonstrate this technique. Just draw a circle on all the coordinates in the contour array (drawn in blue color). First image shows points I got with cv2.CHAIN_APPROX_NONE (734 points) and second image shows the one with cv2.CHAIN_APPROX_SIMPLE (only 4 points). See, how much memory it saves!!!"
   ]
  },
  {
   "cell_type": "markdown",
   "metadata": {},
   "source": [
    "## Contour Features\n",
    "\n",
    "### Goal\n",
    "\n",
    "In this article, we will learn\n",
    "\n",
    "• To ﬁnd the different features of contours, like area, perimeter, centroid, bounding box etc\n",
    "\n",
    "• You will see plenty of functions related to contours.\n",
    "\n",
    "### 1. Moments\n",
    "\n",
    "Image moments help you to calculate some features like center of mass of the object, area of the object etc. Check out the wikipedia page on Image Moments\n",
    "\n",
    "The function cv2.moments() gives a dictionary of all moment values calculated. See below:"
   ]
  },
  {
   "cell_type": "code",
   "execution_count": 20,
   "metadata": {
    "collapsed": false
   },
   "outputs": [
    {
     "ename": "ValueError",
     "evalue": "too many values to unpack (expected 2)",
     "output_type": "error",
     "traceback": [
      "\u001b[0;31m---------------------------------------------------------------------------\u001b[0m",
      "\u001b[0;31mValueError\u001b[0m                                Traceback (most recent call last)",
      "\u001b[0;32m<ipython-input-20-e4b389e5277a>\u001b[0m in \u001b[0;36m<module>\u001b[0;34m()\u001b[0m\n\u001b[1;32m      4\u001b[0m \u001b[0mret\u001b[0m\u001b[0;34m,\u001b[0m\u001b[0mthresh\u001b[0m \u001b[0;34m=\u001b[0m \u001b[0mcv2\u001b[0m\u001b[0;34m.\u001b[0m\u001b[0mthreshold\u001b[0m\u001b[0;34m(\u001b[0m\u001b[0mimg\u001b[0m\u001b[0;34m,\u001b[0m\u001b[0;36m127\u001b[0m\u001b[0;34m,\u001b[0m\u001b[0;36m255\u001b[0m\u001b[0;34m,\u001b[0m\u001b[0;36m0\u001b[0m\u001b[0;34m)\u001b[0m\u001b[0;34m\u001b[0m\u001b[0m\n\u001b[1;32m      5\u001b[0m \u001b[0;34m\u001b[0m\u001b[0m\n\u001b[0;32m----> 6\u001b[0;31m \u001b[0mcontours\u001b[0m\u001b[0;34m,\u001b[0m\u001b[0mhierarchy\u001b[0m \u001b[0;34m=\u001b[0m \u001b[0mcv2\u001b[0m\u001b[0;34m.\u001b[0m\u001b[0mfindContours\u001b[0m\u001b[0;34m(\u001b[0m\u001b[0mthresh\u001b[0m\u001b[0;34m,\u001b[0m \u001b[0;36m1\u001b[0m\u001b[0;34m,\u001b[0m \u001b[0;36m2\u001b[0m\u001b[0;34m)\u001b[0m\u001b[0;34m\u001b[0m\u001b[0m\n\u001b[0m\u001b[1;32m      7\u001b[0m \u001b[0;34m\u001b[0m\u001b[0m\n\u001b[1;32m      8\u001b[0m \u001b[0mplt\u001b[0m\u001b[0;34m.\u001b[0m\u001b[0msubplot\u001b[0m\u001b[0;34m(\u001b[0m\u001b[0;36m2\u001b[0m\u001b[0;34m,\u001b[0m\u001b[0;36m2\u001b[0m\u001b[0;34m,\u001b[0m\u001b[0;36m1\u001b[0m\u001b[0;34m)\u001b[0m\u001b[0;34m,\u001b[0m \u001b[0mplt\u001b[0m\u001b[0;34m.\u001b[0m\u001b[0mimshow\u001b[0m\u001b[0;34m(\u001b[0m\u001b[0mimg\u001b[0m\u001b[0;34m,\u001b[0m\u001b[0mcmap\u001b[0m\u001b[0;34m=\u001b[0m\u001b[0;34m'gray'\u001b[0m\u001b[0;34m)\u001b[0m\u001b[0;34m\u001b[0m\u001b[0m\n",
      "\u001b[0;31mValueError\u001b[0m: too many values to unpack (expected 2)"
     ]
    }
   ],
   "source": [
    "img = cv2.imread('images/bolt.png',0) \n",
    "\n",
    "plt.figure(figsize=(15,15))\n",
    "ret,thresh = cv2.threshold(img,127,255,0)\n",
    "\n",
    "contours,hierarchy = cv2.findContours(thresh, 1, 2)\n",
    "\n",
    "plt.subplot(2,2,1), plt.imshow(img,cmap='gray')\n",
    "plt.title('Original'),plt.axis(\"off\")\n",
    "plt.show()\n",
    "\n"
   ]
  },
  {
   "cell_type": "markdown",
   "metadata": {},
   "source": [
    "### 7. Bounding Rectangle\n",
    "\n",
    "There are two types of bounding rectangles.\n",
    "\n",
    "- 7.a Straight Bounding Rectangle It is a straight rectangle, it doesn’t consider the rotation of the object. So area of the bounding rectangle won’t be minimum. It is found by the function cv2.boundingRect().\n",
    "\n",
    "Let (x,y) be the top-left coordinate of the rectangle and (w,h) be its width and height."
   ]
  },
  {
   "cell_type": "code",
   "execution_count": 22,
   "metadata": {
    "collapsed": false
   },
   "outputs": [
    {
     "ename": "NameError",
     "evalue": "name 'cnt' is not defined",
     "output_type": "error",
     "traceback": [
      "\u001b[0;31m---------------------------------------------------------------------------\u001b[0m",
      "\u001b[0;31mNameError\u001b[0m                                 Traceback (most recent call last)",
      "\u001b[0;32m<ipython-input-22-1f5d8ae17be3>\u001b[0m in \u001b[0;36m<module>\u001b[0;34m()\u001b[0m\n\u001b[0;32m----> 1\u001b[0;31m \u001b[0mx\u001b[0m\u001b[0;34m,\u001b[0m\u001b[0my\u001b[0m\u001b[0;34m,\u001b[0m\u001b[0mw\u001b[0m\u001b[0;34m,\u001b[0m\u001b[0mh\u001b[0m \u001b[0;34m=\u001b[0m \u001b[0mcv2\u001b[0m\u001b[0;34m.\u001b[0m\u001b[0mboundingRect\u001b[0m\u001b[0;34m(\u001b[0m\u001b[0mcnt\u001b[0m\u001b[0;34m)\u001b[0m\u001b[0;34m\u001b[0m\u001b[0m\n\u001b[0m\u001b[1;32m      2\u001b[0m \u001b[0mimg\u001b[0m \u001b[0;34m=\u001b[0m \u001b[0mcv2\u001b[0m\u001b[0;34m.\u001b[0m\u001b[0mrectangle\u001b[0m\u001b[0;34m(\u001b[0m\u001b[0mimg\u001b[0m\u001b[0;34m,\u001b[0m\u001b[0;34m(\u001b[0m\u001b[0mx\u001b[0m\u001b[0;34m,\u001b[0m\u001b[0my\u001b[0m\u001b[0;34m)\u001b[0m\u001b[0;34m,\u001b[0m\u001b[0;34m(\u001b[0m\u001b[0mx\u001b[0m\u001b[0;34m+\u001b[0m\u001b[0mw\u001b[0m\u001b[0;34m,\u001b[0m\u001b[0my\u001b[0m\u001b[0;34m+\u001b[0m\u001b[0mh\u001b[0m\u001b[0;34m)\u001b[0m\u001b[0;34m,\u001b[0m\u001b[0;34m(\u001b[0m\u001b[0;36m0\u001b[0m\u001b[0;34m,\u001b[0m\u001b[0;36m255\u001b[0m\u001b[0;34m,\u001b[0m\u001b[0;36m0\u001b[0m\u001b[0;34m)\u001b[0m\u001b[0;34m,\u001b[0m\u001b[0;36m2\u001b[0m\u001b[0;34m)\u001b[0m\u001b[0;34m\u001b[0m\u001b[0m\n",
      "\u001b[0;31mNameError\u001b[0m: name 'cnt' is not defined"
     ]
    }
   ],
   "source": [
    "x,y,w,h = cv2.boundingRect(cnt) \n",
    "img = cv2.rectangle(img,(x,y),(x+w,y+h),(0,255,0),2)"
   ]
  },
  {
   "cell_type": "code",
   "execution_count": 47,
   "metadata": {
    "collapsed": false
   },
   "outputs": [
    {
     "data": {
      "image/png": "[encoded data removed]",
      "text/plain": [
       "<matplotlib.figure.Figure at 0x11b4e0160>"
      ]
     },
     "metadata": {},
     "output_type": "display_data"
    }
   ],
   "source": [
    "img = cv2.imread('images/star.png') \n",
    "#img_gray = cv2.imread('images/star.png') \n",
    "\n",
    "img_gray = cv2.cvtColor(img,cv2.COLOR_BGR2GRAY)\n",
    "\n",
    "ret, thresh = cv2.threshold(img_gray, 127, 255,0) \n",
    "\n",
    "img_gray,contours,hierarchy = cv2.findContours(thresh,2,1) \n",
    "cnt = contours[0]\n",
    "\n",
    "hull = cv2.convexHull(cnt,returnPoints = False) \n",
    "defects = cv2.convexityDefects(cnt,hull)\n",
    "\n",
    "for i in range(defects.shape[0]):\n",
    "    s,e,f,d = defects[i,0]\n",
    "    start = tuple(cnt[s][0]) \n",
    "    end = tuple(cnt[e][0]) \n",
    "    far = tuple(cnt[f][0]) \n",
    "    cv2.line(img,start,end,[0,255,0],2) \n",
    "    cv2.circle(img,far,5,[0,0,255],-1)\n",
    "\n",
    "plt.figure(figsize=(15,15))\n",
    "\n",
    "plt.subplot(1,2,1), plt.imshow(img,cmap='gray')\n",
    "plt.title('Original'),plt.axis(\"off\")\n",
    "\n",
    "plt.subplot(1,2,2), plt.imshow(img_gray,cmap='gray')\n",
    "plt.title('Contours'),plt.axis(\"off\")\n",
    "plt.show()"
   ]
  },
  {
   "cell_type": "code",
   "execution_count": 48,
   "metadata": {
    "collapsed": true
   },
   "outputs": [],
   "source": [
    "#unfinished"
   ]
  },
  {
   "cell_type": "code",
   "execution_count": null,
   "metadata": {
    "collapsed": true
   },
   "outputs": [],
   "source": []
  }
 ],
 "metadata": {
  "kernelspec": {
   "display_name": "Python 3",
   "language": "python",
   "name": "python3"
  },
  "language_info": {
   "codemirror_mode": {
    "name": "ipython",
    "version": 3
   },
   "file_extension": ".py",
   "mimetype": "text/x-python",
   "name": "python",
   "nbconvert_exporter": "python",
   "pygments_lexer": "ipython3",
   "version": "3.5.3"
  }
 },
 "nbformat": 4,
 "nbformat_minor": 2
}
