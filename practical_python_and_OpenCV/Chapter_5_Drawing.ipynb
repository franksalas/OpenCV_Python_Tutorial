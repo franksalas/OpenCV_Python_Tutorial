{
 "cells": [
  {
   "cell_type": "markdown",
   "metadata": {
    "collapsed": true
   },
   "source": [
    "# Drawing\n",
    "the three most basic methods to draw shapes: \n",
    "- `cv2.line()`\n",
    "- `cv2.rectangle()`\n",
    "- `cv2.circle()`"
   ]
  },
  {
   "cell_type": "code",
   "execution_count": 2,
   "metadata": {
    "collapsed": true
   },
   "outputs": [],
   "source": [
    "import cv2\n",
    "import numpy as np\n",
    "import matplotlib.pyplot as plt"
   ]
  },
  {
   "cell_type": "markdown",
   "metadata": {},
   "source": [
    "### Lines And Rectangles"
   ]
  },
  {
   "cell_type": "markdown",
   "metadata": {},
   "source": [
    "Lets set some colors\n",
    "\n",
    "```python\n",
    "green = (0,255,0)\n",
    "blue = (0,0,255)\n",
    "red = (255,0,0)\n",
    "```\n",
    "\n",
    "Construct a numpy array using`np.zeros`method with 300 rows and 300 colimns, yelding a 300x300 pizel image. We will also allocate pace for 3 channesl, R,G,B. As the name suggest, the `zeros` method fill every element in the array with an initial value of zero.\n",
    "\n",
    "```python\n",
    "canvas = np.zeros((300,300,3), dtype='uint8')\n",
    "```\n",
    "\n",
    "Draw a green line from point $(0,0)$ *Top left* to point $(300,300)$ *bottom right coner of image*\n",
    "\n",
    "```python\n",
    "cv2.line(canvas, (0,0), (300,300), green)\n",
    "\n",
    "```\n",
    "\n",
    "Draw a red line  from point (300,0) to (0,300) and thickness of 3 pixels\n",
    "\n",
    "```python\n",
    "cv2.line(canvas, (300,0), (0,300), red, 3)\n",
    "\n",
    "```\n",
    "\n",
    "Draw a  green rectangle  starting(x,y) point: (10,10), end point (x,y): (60,60)\n",
    "\n",
    "Defining a region of 50x50 pixels\n",
    "\n",
    "```python\n",
    "cv2.rectangle(canvas, (10,10), (60,60), green)\n",
    "\n",
    "```\n",
    "\n",
    "Draw a red rectangle that is 5px thick, starting form point(50,200) and ending at (200,225\n",
    "\n",
    "```python\n",
    "cv2.rectangle(canvas, (50,200), (200,225), red, 5)\n",
    "\n",
    "```\n",
    "\n",
    "Here we fill in a rectange by placing a $-1$ in the thickness section\n",
    "\n",
    "```python\n",
    "cv2.rectangle(canvas, (200,50), (225, 125),blue, -1 )\n",
    "\n",
    "```\n",
    "\n",
    "Display the plot\n",
    "\n",
    "```python\n",
    "\n",
    "plt.figure(figsize=(10,5))\n",
    "\n",
    "plt.imshow(canvas)\n",
    "plt.axis(\"off\")\n",
    "plt.show()\n",
    "```\n"
   ]
  },
  {
   "cell_type": "code",
   "execution_count": 5,
   "metadata": {
    "collapsed": false
   },
   "outputs": [
    {
     "data": {
      "image/png": "[encoded data removed]",
      "text/plain": [
       "<matplotlib.figure.Figure at 0x10583f978>"
      ]
     },
     "metadata": {},
     "output_type": "display_data"
    }
   ],
   "source": [
    "green = (0,255,0)\n",
    "blue = (0,0,255)\n",
    "red = (255,0,0)\n",
    "\n",
    "\n",
    "canvas = np.zeros((300,300,3), dtype='uint8')\n",
    "\n",
    "cv2.line(canvas, (0,0), (300,300), green)\n",
    "cv2.line(canvas, (300,0), (0,300), red, 3)\n",
    "cv2.rectangle(canvas, (10,10), (60,60), green)\n",
    "\n",
    "cv2.rectangle(canvas, (50,200), (200,255), red, 5)\n",
    "\n",
    "cv2.rectangle(canvas, (200,50), (225, 125),blue, -1 )\n",
    "\n",
    "\n",
    "\n",
    "plt.figure(figsize=(10,5))\n",
    "plt.imshow(canvas)\n",
    "plt.axis(\"off\")\n",
    "plt.show()"
   ]
  },
  {
   "cell_type": "markdown",
   "metadata": {},
   "source": [
    "### Circles"
   ]
  },
  {
   "cell_type": "markdown",
   "metadata": {},
   "source": [
    "\n",
    "Calculate two variables: `centerX` and `centerY`. These two variables representthe $)x,y)$ coordinates of teh center of the image. We canculate the center by examining the shape of our Nympy array,a dn thend dividing by two.\n",
    "\n",
    "The height of the image can be foudn in `canvas.shape[0]` and the width in `canvas.shape[1]`.\n",
    "\n",
    "```Python\n",
    "(centerX, centerY) = (canvas.shape[1]//2, canvas.shape[0]//2)\n",
    "\n",
    "```\n",
    "\n",
    "We loop over a numbe of radius values, starting from $0$ and ending at $150$, incrementidn by $25$ at each step.\n",
    "\n",
    "\n",
    "first parameter is our canvas, teh image we want to draw the circle on. We then need to supply the pont in which our circle will bedrww around. We pass in a tubpel of `(cenerX, centerY)` so that our circle swill be centerd at the middle of the image.  The third argument is the radius of the circle we wish to draw.\n",
    "\n",
    "\n",
    "```Python\n",
    "for r in range(0,175,25):\n",
    "    cv2.circle(canvas, (centerX, centerY), r, white)\n",
    "```\n",
    "\n",
    "Plot figure\n",
    "\n",
    "```Python\n",
    "plt.figure(figsize=(10,5))\n",
    "\n",
    "plt.imshow(canvas)\n",
    "plt.axis(\"off\")\n",
    "plt.show()\n",
    "```\n",
    "\n",
    "\n",
    "\n"
   ]
  },
  {
   "cell_type": "code",
   "execution_count": 12,
   "metadata": {
    "collapsed": false
   },
   "outputs": [
    {
     "data": {
      "image/png": "[encoded data removed]",
      "text/plain": [
       "<matplotlib.figure.Figure at 0x1101b72b0>"
      ]
     },
     "metadata": {},
     "output_type": "display_data"
    }
   ],
   "source": [
    "white = (255,255,255)\n",
    "\n",
    "\n",
    "canvas = np.zeros((300,300,3), dtype='uint8')\n",
    "\n",
    "(centerX, centerY) = (canvas.shape[1]//2, canvas.shape[0]//2)\n",
    "\n",
    "for r in range(0,175,25):\n",
    "    cv2.circle(canvas, (centerX, centerY), r, white)\n",
    "    \n",
    "\n",
    "plt.figure(figsize=(10,5))\n",
    "\n",
    "plt.imshow(canvas)\n",
    "plt.axis(\"off\")\n",
    "plt.show()"
   ]
  },
  {
   "cell_type": "markdown",
   "metadata": {},
   "source": [
    "### Drawing circles"
   ]
  },
  {
   "cell_type": "markdown",
   "metadata": {},
   "source": [
    "\n",
    "Draw 25 random circles using numpy `np.random.randint` function\n",
    "\n",
    "We generate 3 values: radius of the circle, the color of the circle, and the pt- *the(x,y)* coordinates of hwere the cicle will be drawn.\n",
    "\n",
    "We generate a radius value in the range $[5,200)$, this controls how large our circles will be\n",
    "\n",
    "We then randomly generate a color of an RGB pixel consistin of 3 values in the range $[0,255]$, In order to get 3 random inegers rather than only one integer, we pass teh keywordk agrument size = (3,), instructing numpy to return a list of three numbers.\n",
    "\n",
    "Finally we need an $(x,y)$ point to draw our circle, We generate a poin gin the range $[0,300)$ using numpy `np.random.randint` function.\n",
    "\n",
    "The drawing of the circle is done by the `cv2.circle()` function using the radius, color adn pt that we randomly generated, we use a thickess of -1 to draw a solid color\n",
    "\n",
    "```Python\n",
    "for i in range(0,25):\n",
    "    radius = np.random.randint(5, high = 200)\n",
    "    color = np.random.randint(0, high=256, size=(3,)).tolist()\n",
    "    pt = np.random.randint(0,high=300, size=(2,))\n",
    "    cv2.circle(canvas, tuple(pt), radius, color, -1)\n",
    "\n",
    "```\n",
    "\n",
    "Plot figure\n",
    "\n",
    "```Python\n",
    "plt.figure(figsize=(10,5))\n",
    "plt.imshow(canvas)\n",
    "plt.axis(\"off\")\n",
    "plt.show()\n",
    "```"
   ]
  },
  {
   "cell_type": "code",
   "execution_count": 17,
   "metadata": {
    "collapsed": false
   },
   "outputs": [
    {
     "data": {
      "image/png": "[encoded data removed]",
      "text/plain": [
       "<matplotlib.figure.Figure at 0x1105f3860>"
      ]
     },
     "metadata": {},
     "output_type": "display_data"
    }
   ],
   "source": [
    "# using same canvas as above\n",
    "\n",
    "for i in range(0,25):\n",
    "    radius = np.random.randint(5, high = 200)\n",
    "    color = np.random.randint(0, high=256, size=(3,)).tolist()\n",
    "    pt = np.random.randint(0,high=300, size=(2,))\n",
    "    cv2.circle(canvas, tuple(pt), radius, color, -1)\n",
    "\n",
    "    \n",
    "plt.figure(figsize=(10,5))\n",
    "\n",
    "plt.imshow(canvas)\n",
    "plt.axis(\"off\")\n",
    "plt.show()\n",
    "\n",
    "# repeat  for diffrent output"
   ]
  },
  {
   "cell_type": "code",
   "execution_count": null,
   "metadata": {
    "collapsed": true
   },
   "outputs": [],
   "source": []
  }
 ],
 "metadata": {
  "kernelspec": {
   "display_name": "Python 3",
   "language": "python",
   "name": "python3"
  },
  "language_info": {
   "codemirror_mode": {
    "name": "ipython",
    "version": 3
   },
   "file_extension": ".py",
   "mimetype": "text/x-python",
   "name": "python",
   "nbconvert_exporter": "python",
   "pygments_lexer": "ipython3",
   "version": "3.5.3"
  }
 },
 "nbformat": 4,
 "nbformat_minor": 2
}
